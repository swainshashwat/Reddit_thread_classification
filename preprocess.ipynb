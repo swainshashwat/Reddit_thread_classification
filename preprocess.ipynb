{
 "cells": [
  {
   "cell_type": "markdown",
   "metadata": {
    "colab_type": "text",
    "id": "2gv2i9fNDvrg"
   },
   "source": [
    "## Part A: Subreddit Prediction ##"
   ]
  },
  {
   "cell_type": "code",
   "execution_count": 1,
   "metadata": {
    "colab": {},
    "colab_type": "code",
    "id": "ZG9BpbQt3-ko"
   },
   "outputs": [
    {
     "name": "stderr",
     "output_type": "stream",
     "text": [
      "'gsutil' is not recognized as an internal or external command,\n",
      "operable program or batch file.\n",
      "'gsutil' is not recognized as an internal or external command,\n",
      "operable program or batch file.\n"
     ]
    }
   ],
   "source": [
    "subreddit_train = \"coursework_subreddit_train.json\"\n",
    "subreddit_test = \"coursework_subreddit_test.json\"\n",
    "\n",
    "!gsutil cp gs://textasdata/coursework/coursework_subreddit_train.json $subreddit_train \n",
    "!gsutil cp gs://textasdata/coursework/coursework_subreddit_test.json  $subreddit_test"
   ]
  },
  {
   "cell_type": "code",
   "execution_count": 2,
   "metadata": {
    "colab": {},
    "colab_type": "code",
    "id": "iCEG8t6PC2f7"
   },
   "outputs": [
    {
     "name": "stdout",
     "output_type": "stream",
     "text": [
      "['is_self_post', 'posts', 'subreddit', 'title', 'url']\n",
      "   is_self_post                                              posts  \\\n",
      "0           1.0  [{'majority_link': 't3_2x19a2', 'annotations':...   \n",
      "1           1.0  [{'majority_link': 'none', 'annotations': [{'l...   \n",
      "2           1.0  [{'majority_link': 'none', 'annotations': [{'l...   \n",
      "3           1.0  [{'majority_link': 't3_1h300m', 'annotations':...   \n",
      "4           1.0  [{'majority_link': 'none', 'annotations': [{'l...   \n",
      "\n",
      "        subreddit                                              title  \\\n",
      "0   relationships  How do I [23F] communicate with my self-center...   \n",
      "1  summonerschool  What Cherry switch do you recommend for League...   \n",
      "2       askreddit                   Where do memes go when they die?   \n",
      "3           trees                     Some weird long term affects??   \n",
      "4        buildapc  Simple question: If I install Windows to a sta...   \n",
      "\n",
      "                                                 url  \n",
      "0  https://www.reddit.com/r/relationships/comment...  \n",
      "1  https://www.reddit.com/r/summonerschool/commen...  \n",
      "2  https://www.reddit.com/r/AskReddit/comments/4d...  \n",
      "3  https://www.reddit.com/r/trees/comments/1h300m...  \n",
      "4  https://www.reddit.com/r/buildapc/comments/jhb...  \n",
      "7280\n"
     ]
    }
   ],
   "source": [
    "import pandas as pd\n",
    "\n",
    "train_threads = pd.read_json(path_or_buf=subreddit_train, lines=True)\n",
    "print(list(train_threads.columns.values))\n",
    "print(train_threads.head())\n",
    "print(train_threads.size)"
   ]
  },
  {
   "cell_type": "code",
   "execution_count": 3,
   "metadata": {
    "colab": {},
    "colab_type": "code",
    "id": "89UU3g27C8SZ"
   },
   "outputs": [
    {
     "name": "stdout",
     "output_type": "stream",
     "text": [
      "   is_self_post                                              posts  \\\n",
      "0           1.0  [{'majority_link': 'none', 'annotations': [{'l...   \n",
      "1           1.0  [{'majority_link': 'none', 'annotations': [{'l...   \n",
      "2           1.0  [{'majority_link': 'none', 'annotations': [{'l...   \n",
      "3           1.0  [{'majority_link': 'none', 'annotations': [{'l...   \n",
      "4           1.0  [{'majority_link': 'none', 'annotations': [{'l...   \n",
      "\n",
      "       subreddit                                              title  \\\n",
      "0      starcraft  Just a reminder on how much SC2 has evolved th...   \n",
      "1    whowouldwin  Your Favorite Hero Now Has A Healing Factor As...   \n",
      "2      askreddit  If you could live anywhere in the world, where...   \n",
      "3      askreddit                   Do you ever get use to exercise?   \n",
      "4  tipofmytongue         [TOMT] [book] A scary french book for kids   \n",
      "\n",
      "                                                 url  \n",
      "0  https://www.reddit.com/r/starcraft/comments/mq...  \n",
      "1  https://www.reddit.com/r/whowouldwin/comments/...  \n",
      "2  https://www.reddit.com/r/AskReddit/comments/27...  \n",
      "3  https://www.reddit.com/r/AskReddit/comments/x9...  \n",
      "4  https://www.reddit.com/r/tipofmytongue/comment...  \n",
      "1825\n"
     ]
    }
   ],
   "source": [
    "test_threads = pd.read_json(path_or_buf=subreddit_test, lines=True)\n",
    "print(test_threads.head())\n",
    "print(test_threads.size)"
   ]
  },
  {
   "cell_type": "code",
   "execution_count": 4,
   "metadata": {
    "colab": {},
    "colab_type": "code",
    "id": "3Nl9qzazDQ_6"
   },
   "outputs": [
    {
     "name": "stdout",
     "output_type": "stream",
     "text": [
      "count     20.000000\n",
      "mean      72.800000\n",
      "std       73.368285\n",
      "min       28.000000\n",
      "25%       36.250000\n",
      "50%       45.500000\n",
      "75%       63.750000\n",
      "max      334.000000\n",
      "Name: subreddit, dtype: float64\n",
      "askreddit               334\n",
      "leagueoflegends         196\n",
      "buildapc                131\n",
      "explainlikeimfive        82\n",
      "trees                    66\n",
      "techsupport              63\n",
      "gaming                   62\n",
      "pcmasterrace             62\n",
      "electronic_cigarette     59\n",
      "relationships            48\n",
      "tipofmytongue            43\n",
      "hearthstone              38\n",
      "jailbreak                38\n",
      "summonerschool           37\n",
      "atheism                  37\n",
      "reddit.com               34\n",
      "movies                   33\n",
      "whowouldwin              33\n",
      "personalfinance          32\n",
      "starcraft                28\n",
      "Name: subreddit, dtype: int64\n"
     ]
    }
   ],
   "source": [
    "subreddit_counts = train_threads['subreddit'].value_counts()\n",
    "print(subreddit_counts.describe())\n",
    "top_subbreddits = subreddit_counts.nlargest(20)\n",
    "top_subbreddits_list = top_subbreddits.index.tolist()\n",
    "print(top_subbreddits)"
   ]
  },
  {
   "cell_type": "code",
   "execution_count": 5,
   "metadata": {
    "colab": {},
    "colab_type": "code",
    "id": "02OXNfo9H8Kc"
   },
   "outputs": [],
   "source": [
    "train_labels = train_threads['subreddit']\n",
    "test_labels = test_threads['subreddit']"
   ]
  },
  {
   "cell_type": "markdown",
   "metadata": {
    "colab_type": "text",
    "id": "D-G938e8D5qn"
   },
   "source": [
    "## Part B: Discourse prediction ##"
   ]
  },
  {
   "cell_type": "code",
   "execution_count": 0,
   "metadata": {
    "colab": {},
    "colab_type": "code",
    "id": "9KM6aJtSETPY"
   },
   "outputs": [],
   "source": [
    "discourse_train = \"coursework_discourse_train.json\"\n",
    "discourse_test = \"coursework_discourse_test.json\"\n",
    "  \n",
    "!gsutil cp gs://textasdata/coursework/coursework_discourse_train.json $discourse_train  \n",
    "!gsutil cp gs://textasdata/coursework/coursework_discourse_test.json  $discourse_test"
   ]
  },
  {
   "cell_type": "code",
   "execution_count": 0,
   "metadata": {
    "colab": {},
    "colab_type": "code",
    "id": "pwOaf_6aD-Vh"
   },
   "outputs": [],
   "source": [
    "# The reddit thread structure is nested with posts in a new content.\n",
    "# This block reads the file as json and creates a new data frame.\n",
    "import pandas as pd\n",
    "import json\n",
    "\n",
    "def load_posts(file):\n",
    "  # A temporary variable to store the list of post content.\n",
    "  posts_tmp = list()\n",
    "\n",
    "  with open(file) as jsonfile:\n",
    "    for i, line in enumerate(jsonfile):\n",
    "     # if (i > 2): break\n",
    "      thread = json.loads(line)\n",
    "      for post in thread['posts']:\n",
    "        # NOTE: This could be changed to use additional features from the post or thread.\n",
    "        # DO NOT change the labels for the test set.\n",
    "        posts_tmp.append((thread['subreddit'], thread['title'], thread['url'],\n",
    "                        post['id'], post.get('author', \"\"), post.get('body', \"\"), post.get(\"majority_link\", \"\"), \n",
    "                        post.get('post_depth', 0), post.get('author', \"\"), post.get('majority_type', \"\"), # discourse type label \n",
    "                        post.get('in_reply_to', \"\") ))\n",
    "\n",
    "# Create the posts data frame.  \n",
    "  labels = ['subreddit', 'title', 'url', 'id', 'author', 'body', 'majority_link', \n",
    "          'post_depth', 'author', 'discourse_type', 'in_reply_to']\n",
    "  return pd.DataFrame(posts_tmp, columns=labels)"
   ]
  },
  {
   "cell_type": "code",
   "execution_count": 0,
   "metadata": {
    "colab": {},
    "colab_type": "code",
    "id": "PDzHTDcmEQ11"
   },
   "outputs": [],
   "source": [
    "train_posts = load_posts(discourse_train)\n",
    "# Filter out empty labels\n",
    "train_posts = train_posts[train_posts['discourse_type'] != \"\"]\n",
    "print(train_posts.head())\n",
    "print(\"Num posts: \", train_posts.size)"
   ]
  },
  {
   "cell_type": "markdown",
   "metadata": {
    "colab_type": "text",
    "id": "dqGLzyTOGadY"
   },
   "source": [
    "The label for the post we will be predicting is in the discourse_type column."
   ]
  },
  {
   "cell_type": "code",
   "execution_count": 0,
   "metadata": {
    "colab": {},
    "colab_type": "code",
    "id": "7vvo7hfCEmvj"
   },
   "outputs": [],
   "source": [
    "test_posts = load_posts(discourse_test)\n",
    "# Filter out empty labels\n",
    "test_posts = test_posts[test_posts['discourse_type'] != \"\"]\n",
    "print(\"Num posts: \", test_posts.size)\n"
   ]
  },
  {
   "cell_type": "code",
   "execution_count": 0,
   "metadata": {
    "colab": {},
    "colab_type": "code",
    "id": "Jat55HhNHGBp"
   },
   "outputs": [],
   "source": [
    "train_labels = train_posts['discourse_type']\n",
    "test_labels = test_posts['discourse_type']"
   ]
  },
  {
   "cell_type": "markdown",
   "metadata": {
    "colab_type": "text",
    "id": "rFl6sM58HNFp"
   },
   "source": [
    "Examine the distribution over labels on the training data."
   ]
  },
  {
   "cell_type": "code",
   "execution_count": 0,
   "metadata": {
    "colab": {},
    "colab_type": "code",
    "id": "n3NbLPBhFOkp"
   },
   "outputs": [],
   "source": [
    "discourse_counts = train_labels.value_counts()\n",
    "print(discourse_counts.describe())\n",
    "\n",
    "top_discourse = discourse_counts.nlargest(200)\n",
    "print(top_discourse)\n",
    "top_discourse = top_discourse.index.tolist()\n",
    "print(top_discourse)"
   ]
  },
  {
   "cell_type": "code",
   "execution_count": 0,
   "metadata": {
    "colab": {},
    "colab_type": "code",
    "id": "pbVa1fkZGHVQ"
   },
   "outputs": [],
   "source": [
    "# Define the features\n",
    "X_train = #features from training data\n",
    "X_test = #features from test data\n",
    "\n",
    "from sklearn.dummy import DummyClassifier\n",
    "clf = DummyClassifier(strategy='stratified',random_state=0)\n",
    "clf.fit(X_train, train_posts['discourse_type'])\n",
    "predictions = clf.predict(X_test)  \n",
    "print(classification_report(predictions, test_posts['discourse_type']))"
   ]
  }
 ],
 "metadata": {
  "colab": {
   "name": "Coursework skeleton.ipynb",
   "provenance": [],
   "version": "0.3.2"
  },
  "kernelspec": {
   "display_name": "Python 3",
   "language": "python",
   "name": "python3"
  },
  "language_info": {
   "codemirror_mode": {
    "name": "ipython",
    "version": 3
   },
   "file_extension": ".py",
   "mimetype": "text/x-python",
   "name": "python",
   "nbconvert_exporter": "python",
   "pygments_lexer": "ipython3",
   "version": "3.7.1"
  }
 },
 "nbformat": 4,
 "nbformat_minor": 1
}
