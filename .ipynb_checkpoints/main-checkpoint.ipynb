{
 "cells": [
  {
   "cell_type": "code",
   "execution_count": 2,
   "metadata": {},
   "outputs": [],
   "source": [
    "# importing necessary packages\n",
    "import pandas as pd\n",
    "import numpy as np\n",
    "from pandas.io.json import json_normalize"
   ]
  },
  {
   "cell_type": "code",
   "execution_count": 105,
   "metadata": {},
   "outputs": [],
   "source": [
    "import seaborn as sns"
   ]
  },
  {
   "cell_type": "code",
   "execution_count": 71,
   "metadata": {},
   "outputs": [],
   "source": [
    "# for plotting\n",
    "import matplotlib.pyplot as plt\n",
    "%matplotlib inline"
   ]
  },
  {
   "cell_type": "code",
   "execution_count": 142,
   "metadata": {},
   "outputs": [],
   "source": [
    "# one hot encoder\n",
    "from sklearn.pipeline import Pipeline\n",
    "from sklearn.preprocessing import MultiLabelBinarizer\n",
    "from sklearn.model_selection import GridSearchCV\n",
    "from sklearn.utils import check_X_y"
   ]
  },
  {
   "cell_type": "code",
   "execution_count": 9,
   "metadata": {},
   "outputs": [],
   "source": [
    "import spacy\n",
    "\n",
    "nlp = spacy.load(\"en\", disable=['parser','tagger','ner'])"
   ]
  },
  {
   "cell_type": "code",
   "execution_count": 10,
   "metadata": {},
   "outputs": [],
   "source": [
    "subreddit_train = \"subreddit_train.json\"\n",
    "subreddit_test = \"subreddit_test.json\""
   ]
  },
  {
   "cell_type": "code",
   "execution_count": 11,
   "metadata": {},
   "outputs": [],
   "source": [
    "train_threads = pd.read_json(path_or_buf=subreddit_train, lines=True)\n",
    "test_threads = pd.read_json(path_or_buf=subreddit_test, lines=True)"
   ]
  },
  {
   "cell_type": "code",
   "execution_count": 12,
   "metadata": {},
   "outputs": [
    {
     "name": "stdout",
     "output_type": "stream",
     "text": [
      "['is_self_post', 'posts', 'subreddit', 'title', 'url']\n"
     ]
    }
   ],
   "source": [
    "# columns\n",
    "print(list(train_threads.columns.values))"
   ]
  },
  {
   "cell_type": "code",
   "execution_count": 13,
   "metadata": {},
   "outputs": [
    {
     "name": "stdout",
     "output_type": "stream",
     "text": [
      "7280\n"
     ]
    }
   ],
   "source": [
    "# training data size\n",
    "print(train_threads.size)"
   ]
  },
  {
   "cell_type": "code",
   "execution_count": 14,
   "metadata": {},
   "outputs": [
    {
     "data": {
      "text/html": [
       "<div>\n",
       "<style scoped>\n",
       "    .dataframe tbody tr th:only-of-type {\n",
       "        vertical-align: middle;\n",
       "    }\n",
       "\n",
       "    .dataframe tbody tr th {\n",
       "        vertical-align: top;\n",
       "    }\n",
       "\n",
       "    .dataframe thead th {\n",
       "        text-align: right;\n",
       "    }\n",
       "</style>\n",
       "<table border=\"1\" class=\"dataframe\">\n",
       "  <thead>\n",
       "    <tr style=\"text-align: right;\">\n",
       "      <th></th>\n",
       "      <th>is_self_post</th>\n",
       "      <th>posts</th>\n",
       "      <th>subreddit</th>\n",
       "      <th>title</th>\n",
       "      <th>url</th>\n",
       "    </tr>\n",
       "  </thead>\n",
       "  <tbody>\n",
       "    <tr>\n",
       "      <th>0</th>\n",
       "      <td>1.0</td>\n",
       "      <td>[{'majority_link': 't3_2x19a2', 'majority_type...</td>\n",
       "      <td>relationships</td>\n",
       "      <td>How do I [23F] communicate with my self-center...</td>\n",
       "      <td>https://www.reddit.com/r/relationships/comment...</td>\n",
       "    </tr>\n",
       "    <tr>\n",
       "      <th>1</th>\n",
       "      <td>1.0</td>\n",
       "      <td>[{'majority_link': 'none', 'url': 'https://www...</td>\n",
       "      <td>summonerschool</td>\n",
       "      <td>What Cherry switch do you recommend for League...</td>\n",
       "      <td>https://www.reddit.com/r/summonerschool/commen...</td>\n",
       "    </tr>\n",
       "    <tr>\n",
       "      <th>2</th>\n",
       "      <td>1.0</td>\n",
       "      <td>[{'majority_link': 'none', 'annotations': [{'m...</td>\n",
       "      <td>askreddit</td>\n",
       "      <td>Where do memes go when they die?</td>\n",
       "      <td>https://www.reddit.com/r/AskReddit/comments/4d...</td>\n",
       "    </tr>\n",
       "    <tr>\n",
       "      <th>3</th>\n",
       "      <td>1.0</td>\n",
       "      <td>[{'majority_link': 't3_1h300m', 'majority_type...</td>\n",
       "      <td>trees</td>\n",
       "      <td>Some weird long term affects??</td>\n",
       "      <td>https://www.reddit.com/r/trees/comments/1h300m...</td>\n",
       "    </tr>\n",
       "    <tr>\n",
       "      <th>4</th>\n",
       "      <td>1.0</td>\n",
       "      <td>[{'majority_link': 'none', 'majority_type': 'q...</td>\n",
       "      <td>buildapc</td>\n",
       "      <td>Simple question: If I install Windows to a sta...</td>\n",
       "      <td>https://www.reddit.com/r/buildapc/comments/jhb...</td>\n",
       "    </tr>\n",
       "  </tbody>\n",
       "</table>\n",
       "</div>"
      ],
      "text/plain": [
       "   is_self_post                                              posts  \\\n",
       "0           1.0  [{'majority_link': 't3_2x19a2', 'majority_type...   \n",
       "1           1.0  [{'majority_link': 'none', 'url': 'https://www...   \n",
       "2           1.0  [{'majority_link': 'none', 'annotations': [{'m...   \n",
       "3           1.0  [{'majority_link': 't3_1h300m', 'majority_type...   \n",
       "4           1.0  [{'majority_link': 'none', 'majority_type': 'q...   \n",
       "\n",
       "        subreddit                                              title  \\\n",
       "0   relationships  How do I [23F] communicate with my self-center...   \n",
       "1  summonerschool  What Cherry switch do you recommend for League...   \n",
       "2       askreddit                   Where do memes go when they die?   \n",
       "3           trees                     Some weird long term affects??   \n",
       "4        buildapc  Simple question: If I install Windows to a sta...   \n",
       "\n",
       "                                                 url  \n",
       "0  https://www.reddit.com/r/relationships/comment...  \n",
       "1  https://www.reddit.com/r/summonerschool/commen...  \n",
       "2  https://www.reddit.com/r/AskReddit/comments/4d...  \n",
       "3  https://www.reddit.com/r/trees/comments/1h300m...  \n",
       "4  https://www.reddit.com/r/buildapc/comments/jhb...  "
      ]
     },
     "execution_count": 14,
     "metadata": {},
     "output_type": "execute_result"
    }
   ],
   "source": [
    "train_threads.head()"
   ]
  },
  {
   "cell_type": "code",
   "execution_count": 15,
   "metadata": {},
   "outputs": [],
   "source": [
    "cols_to_drop = ['is_self_post', 'url']\n",
    "train = train_threads.drop(cols_to_drop, axis=1)\n",
    "test = test_threads.drop(cols_to_drop, axis=1)"
   ]
  },
  {
   "cell_type": "code",
   "execution_count": 16,
   "metadata": {},
   "outputs": [],
   "source": [
    "def posts_parse(x):\n",
    "    \n",
    "    j = json.loads(x)\n",
    "    \n",
    "    return j"
   ]
  },
  {
   "cell_type": "code",
   "execution_count": 17,
   "metadata": {},
   "outputs": [
    {
     "data": {
      "text/plain": [
       "7"
      ]
     },
     "execution_count": 17,
     "metadata": {},
     "output_type": "execute_result"
    }
   ],
   "source": [
    "len(train['posts'][0])"
   ]
  },
  {
   "cell_type": "code",
   "execution_count": 18,
   "metadata": {},
   "outputs": [],
   "source": [
    "def parse_posts(x):\n",
    "    '''parses `posts` in json format and\n",
    "        returns the `body` attribute '''\n",
    "    data = json_normalize(x)\n",
    "    return list(data['body'])"
   ]
  },
  {
   "cell_type": "code",
   "execution_count": 19,
   "metadata": {},
   "outputs": [],
   "source": [
    "def parse_author(x):\n",
    "    '''parses `posts` in json format and\n",
    "        returns the `author` attribute '''\n",
    "    try:\n",
    "        data = json_normalize(x)\n",
    "        return list(data['author'])\n",
    "    \n",
    "    except KeyError as e:\n",
    "        return list() \n",
    "    \n",
    "    "
   ]
  },
  {
   "cell_type": "code",
   "execution_count": 20,
   "metadata": {},
   "outputs": [],
   "source": [
    "def extract_all_data(df):\n",
    "    '''\n",
    "    function to parse json data and extract the `body` attribute,\n",
    "    extract each textual data from every post,\n",
    "    convert and return a pandas data-frame\n",
    "    '''\n",
    "    \n",
    "    # extracting all posts from json type column\n",
    "    all_posts = df['posts'].apply(parse_posts)\n",
    "    all_authors = df['posts'].apply(parse_author)\n",
    "    \n",
    "    text_data = [] # all text data\n",
    "    label_data = [] # all labels\n",
    "    author_data = [] # all author\n",
    "    title_data = [] # all title\n",
    "    \n",
    "    # extract all textual data in each post\n",
    "    for post_idx, (post, author) in enumerate(zip(all_posts, all_authors)):\n",
    "        \n",
    "        for text, au in zip(post, author):\n",
    "            text_data.append(text)\n",
    "            label_data.append(df.subreddit[post_idx])\n",
    "            author_data.append(au)\n",
    "            title_data.append(df.title[post_idx])\n",
    "            \n",
    "    # converting the text-labels into pandas DataFrame\n",
    "    data = pd.DataFrame(text_data)\n",
    "    data['subreddit'] = label_data\n",
    "    data['author'] = author_data\n",
    "    data['title'] = title_data\n",
    "    \n",
    "    data.columns = ['text', 'subreddit', 'author', 'title'] \n",
    "    \n",
    "    return data"
   ]
  },
  {
   "cell_type": "code",
   "execution_count": 21,
   "metadata": {},
   "outputs": [],
   "source": [
    "train_fin = extract_all_data(train)\n",
    "test_fin = extract_all_data(test)"
   ]
  },
  {
   "cell_type": "code",
   "execution_count": 22,
   "metadata": {},
   "outputs": [],
   "source": [
    "# filling null author values with value='unknown'\n",
    "train_fin.author.fillna('unknown', axis=0, inplace=True)"
   ]
  },
  {
   "cell_type": "code",
   "execution_count": 23,
   "metadata": {},
   "outputs": [],
   "source": [
    "# check for empty `text` fields\n",
    "def check_empty(x):\n",
    "    if x=='' or x==' ':\n",
    "        return True\n",
    "    else:\n",
    "        return False"
   ]
  },
  {
   "cell_type": "code",
   "execution_count": 24,
   "metadata": {},
   "outputs": [],
   "source": [
    "# getting the indexed of the empty rows\n",
    "empty_rows_tr = train_fin.text[train_fin.text.apply(check_empty)].index.values\n",
    "empty_rows_te = test_fin.text[test_fin.text.apply(check_empty)].index.values"
   ]
  },
  {
   "cell_type": "code",
   "execution_count": 25,
   "metadata": {},
   "outputs": [
    {
     "name": "stdout",
     "output_type": "stream",
     "text": [
      "No of empty rows in the train data: 293\n",
      "No of empty rows in the test data: 61\n"
     ]
    }
   ],
   "source": [
    "print('No of empty rows in the train data:', len(empty_rows_tr))\n",
    "print('No of empty rows in the test data:', len(empty_rows_te))"
   ]
  },
  {
   "cell_type": "code",
   "execution_count": 26,
   "metadata": {},
   "outputs": [],
   "source": [
    "# dropping the empty rows\n",
    "train_fin.drop(empty_rows_tr, inplace=True)\n",
    "test_fin.drop(empty_rows_te, inplace=True)"
   ]
  },
  {
   "cell_type": "code",
   "execution_count": 27,
   "metadata": {},
   "outputs": [
    {
     "name": "stdout",
     "output_type": "stream",
     "text": [
      "59756\n",
      "15800\n"
     ]
    }
   ],
   "source": [
    "# checking the size of the dataset\n",
    "print(train_fin.size)\n",
    "print(test_fin.size)"
   ]
  },
  {
   "cell_type": "code",
   "execution_count": 28,
   "metadata": {},
   "outputs": [],
   "source": [
    "# explicitly converting `text` column to `str` type\n",
    "train_fin = train_fin.astype(str)\n",
    "test_fin = test_fin.astype(str)"
   ]
  },
  {
   "cell_type": "code",
   "execution_count": 29,
   "metadata": {},
   "outputs": [],
   "source": [
    "# import stopwords\n",
    "stops = nlp.Defaults.stop_words\n",
    "punct = '''!()-[]{};:'\"\\,<>./?@#$%^&*_~'''"
   ]
  },
  {
   "cell_type": "code",
   "execution_count": 30,
   "metadata": {
    "scrolled": true
   },
   "outputs": [],
   "source": [
    "def clean_text_data(x, lowercase=True):\n",
    "    '''\n",
    "    preprocessing data.\n",
    "    removing stopwords & punctuation\n",
    "    '''\n",
    "    if lowercase:\n",
    "        x = x.lower()\n",
    "    x = nlp(x)\n",
    "    lemmatized = list()\n",
    "    for word in x:\n",
    "        lemma = word.lemma_.strip()\n",
    "        #print(lemma)\n",
    "        \n",
    "        if lemma not in stops and lemma not in punct:\n",
    "            lemmatized.append(lemma)\n",
    "    \n",
    "    return \" \".join(lemmatized)"
   ]
  },
  {
   "cell_type": "code",
   "execution_count": 31,
   "metadata": {},
   "outputs": [],
   "source": [
    "train_fin.text = train_fin.text.apply(clean_text_data)\n",
    "test_fin.text = test_fin.text.apply(clean_text_data)"
   ]
  },
  {
   "cell_type": "code",
   "execution_count": 32,
   "metadata": {},
   "outputs": [
    {
     "data": {
      "text/plain": [
       "Index(['text', 'subreddit', 'author', 'title'], dtype='object')"
      ]
     },
     "execution_count": 32,
     "metadata": {},
     "output_type": "execute_result"
    }
   ],
   "source": [
    "train_fin.columns"
   ]
  },
  {
   "cell_type": "code",
   "execution_count": 33,
   "metadata": {},
   "outputs": [],
   "source": [
    "# selecting top 20 classes with maximum examples\n",
    "top_20_cols = list(train_fin.groupby(by='subreddit').count().sort_values(by='text',\n",
    "                                                      ascending=False).head(20).index)"
   ]
  },
  {
   "cell_type": "code",
   "execution_count": 34,
   "metadata": {},
   "outputs": [
    {
     "data": {
      "text/plain": [
       "['askreddit',\n",
       " 'leagueoflegends',\n",
       " 'buildapc',\n",
       " 'electronic_cigarette',\n",
       " 'pcmasterrace',\n",
       " 'trees',\n",
       " 'gaming',\n",
       " 'relationships',\n",
       " 'explainlikeimfive',\n",
       " 'whowouldwin',\n",
       " 'summonerschool',\n",
       " 'techsupport',\n",
       " 'movies',\n",
       " 'atheism',\n",
       " 'jailbreak',\n",
       " 'starcraft',\n",
       " 'hearthstone',\n",
       " 'personalfinance',\n",
       " 'tipofmytongue',\n",
       " 'reddit.com']"
      ]
     },
     "execution_count": 34,
     "metadata": {},
     "output_type": "execute_result"
    }
   ],
   "source": [
    "top_20_cols"
   ]
  },
  {
   "cell_type": "code",
   "execution_count": 35,
   "metadata": {},
   "outputs": [
    {
     "name": "stdout",
     "output_type": "stream",
     "text": [
      "Train size before dropping low-freq classes: 59756\n",
      "Test size before dropping low-freq classes: 15800\n"
     ]
    }
   ],
   "source": [
    "print('Train size before dropping low-freq classes:',train_fin.size)\n",
    "print('Test size before dropping low-freq classes:',test_fin.size)"
   ]
  },
  {
   "cell_type": "code",
   "execution_count": 36,
   "metadata": {},
   "outputs": [],
   "source": [
    "def return_indexes_to_drop(x):\n",
    "    '''\n",
    "    returns indexes of rows to drop in the dataframe\n",
    "    '''\n",
    "    ret = 0\n",
    "    if x in top_20_cols:\n",
    "        return False\n",
    "    else:\n",
    "        return True"
   ]
  },
  {
   "cell_type": "code",
   "execution_count": 37,
   "metadata": {},
   "outputs": [],
   "source": [
    "train_fin['drop'] = train_fin.subreddit.apply(return_indexes_to_drop)\n",
    "test_fin['drop'] = test_fin.subreddit.apply(return_indexes_to_drop)"
   ]
  },
  {
   "cell_type": "code",
   "execution_count": 38,
   "metadata": {},
   "outputs": [
    {
     "name": "stdout",
     "output_type": "stream",
     "text": [
      "Train size after dropping low-freq classes: 74695\n",
      "Test size after dropping low-freq classes: 19750\n"
     ]
    }
   ],
   "source": [
    "print('Train size after dropping low-freq classes:',train_fin.size)\n",
    "print('Test size after dropping low-freq classes:',test_fin.size)"
   ]
  },
  {
   "cell_type": "code",
   "execution_count": 39,
   "metadata": {},
   "outputs": [],
   "source": [
    "train_fin.drop('drop', axis=1, inplace=True)\n",
    "test_fin.drop('drop', axis=1, inplace=True)"
   ]
  },
  {
   "cell_type": "code",
   "execution_count": 40,
   "metadata": {},
   "outputs": [
    {
     "data": {
      "text/plain": [
       "['askreddit',\n",
       " 'atheism',\n",
       " 'buildapc',\n",
       " 'electronic_cigarette',\n",
       " 'explainlikeimfive',\n",
       " 'gaming',\n",
       " 'hearthstone',\n",
       " 'jailbreak',\n",
       " 'leagueoflegends',\n",
       " 'movies',\n",
       " 'pcmasterrace',\n",
       " 'personalfinance',\n",
       " 'reddit.com',\n",
       " 'relationships',\n",
       " 'starcraft',\n",
       " 'summonerschool',\n",
       " 'techsupport',\n",
       " 'tipofmytongue',\n",
       " 'trees',\n",
       " 'whowouldwin']"
      ]
     },
     "execution_count": 40,
     "metadata": {},
     "output_type": "execute_result"
    }
   ],
   "source": [
    "# sorted `subreddit` files \n",
    "sorted(test_fin.subreddit.unique())"
   ]
  },
  {
   "cell_type": "code",
   "execution_count": 41,
   "metadata": {},
   "outputs": [],
   "source": [
    "# encoding subreddit\n",
    "\n",
    "train_y = np.array(train_fin.subreddit)\n",
    "test_y = np.array(test_fin.subreddit)"
   ]
  },
  {
   "cell_type": "markdown",
   "metadata": {},
   "source": [
    "## Q1"
   ]
  },
  {
   "cell_type": "code",
   "execution_count": 101,
   "metadata": {},
   "outputs": [],
   "source": [
    "# vectorizers\n",
    "from sklearn.feature_extraction.text import CountVectorizer, TfidfVectorizer\n",
    "\n",
    "\n",
    "# classifier models\n",
    "from sklearn.linear_model import LogisticRegression\n",
    "from sklearn.svm import SVC\n",
    "from sklearn.naive_bayes import GaussianNB\n",
    "from sklearn.dummy import DummyClassifier\n",
    "\n",
    "# metrics\n",
    "from sklearn.metrics import (accuracy_score,f1_score,\n",
    "                             precision_score,recall_score)\n",
    "from sklearn.metrics import classification_report, confusion_matrix"
   ]
  },
  {
   "cell_type": "code",
   "execution_count": 43,
   "metadata": {},
   "outputs": [],
   "source": [
    "# initializing vectorizer\n",
    "count_vec = CountVectorizer()\n",
    "tfidf_vec = TfidfVectorizer()"
   ]
  },
  {
   "cell_type": "code",
   "execution_count": 147,
   "metadata": {},
   "outputs": [],
   "source": [
    "# one-hot-encoding\n",
    "count_vec.fit_transform(\n",
    "    train_fin.text.append(test_fin.text))\n",
    "train_text_count_vec = count_vec.transform(train_fin.text)\n",
    "test_text_count_vec = count_vec.transform(test_fin.text)\n",
    "\n",
    "# tfidf encoding\n",
    "tfidf_vec.fit_transform(\n",
    "    train_fin.text.append(test_fin.text))\n",
    "train_text_tfidf_vec = tfidf_vec.transform(train_fin.text)\n",
    "test_text_tfidf_vec = tfidf_vec.transform(test_fin.text)"
   ]
  },
  {
   "cell_type": "code",
   "execution_count": 150,
   "metadata": {},
   "outputs": [],
   "source": [
    "models = [('lr',LogisticRegression()),\n",
    "        #('svc', SVC()),\n",
    "        ('gnb',GaussianNB()),\n",
    "        ('dum-strat',DummyClassifier(strategy='stratified')),\n",
    "        ('dum-mf',DummyClassifier(strategy='most_frequent'))]"
   ]
  },
  {
   "cell_type": "code",
   "execution_count": 151,
   "metadata": {},
   "outputs": [],
   "source": [
    "def evaluate_func(test_y, pred):\n",
    "    \n",
    "    print('Evaluating..')\n",
    "    \n",
    "    a = accuracy_score(test_y, pred)\n",
    "    f = f1_score(test_y, pred, average='macro')\n",
    "    p = precision_score(test_y, pred, average='macro')\n",
    "    r = recall_score(test_y, pred, average='macro')\n",
    "    \n",
    "    print('Accuracy Score  : {:.3f}'.format(a))\n",
    "    print('F1 Score        : {:.3f}'.format(f))\n",
    "    print('Precision Score : {:.3f}'.format(p))\n",
    "    print('Recall Score    : {:.3f}'.format(r))\n",
    "    \n",
    "    return a,f,p,r"
   ]
  },
  {
   "cell_type": "code",
   "execution_count": 152,
   "metadata": {},
   "outputs": [],
   "source": [
    "def train_test(model, vect='count'):\n",
    "    '''\n",
    "    function to train and test the models\n",
    "    with 'count' or 'tfidf' vectorizers\n",
    "    '''\n",
    "    print(\"-\"*30)\n",
    "    print('Intializing '+model[0])\n",
    "    clf = model[1]\n",
    "    \n",
    "    # setting the variables\n",
    "    train_label = train_y\n",
    "    test_label = test_y\n",
    "    \n",
    "    if vect=='count':\n",
    "        print('Using Count Vectorizer')\n",
    "        train_data = train_text_count_vec.toarray()\n",
    "        test_data = test_text_count_vec.toarray()\n",
    "        \n",
    "    elif vect=='tfidf':\n",
    "        print('Using Tfidf Vectorizer')\n",
    "        train_data = train_text_tfidf_vec.toarray()\n",
    "        test_data = test_text_tfidf_vec.toarray()\n",
    "        \n",
    "    print('Training..')\n",
    "    \n",
    "    clf.fit(train_data, train_label)\n",
    "    \n",
    "    print('Predicting..')\n",
    "    pred = clf.predict(test_data)\n",
    "    \n",
    "    a,f,p,r = evaluate_func(test_label, pred)\n",
    "    \n",
    "    return (model[0]+'-'+vect, a,f,p,r)\n",
    "\n",
    "    print('DONE')"
   ]
  },
  {
   "cell_type": "code",
   "execution_count": 153,
   "metadata": {
    "scrolled": false
   },
   "outputs": [
    {
     "name": "stdout",
     "output_type": "stream",
     "text": [
      "------------------------------\n",
      "Intializing lr\n",
      "Using Count Vectorizer\n",
      "Training..\n"
     ]
    },
    {
     "name": "stderr",
     "output_type": "stream",
     "text": [
      "D:\\anaconda\\envs\\deep-work\\lib\\site-packages\\sklearn\\linear_model\\logistic.py:433: FutureWarning: Default solver will be changed to 'lbfgs' in 0.22. Specify a solver to silence this warning.\n",
      "  FutureWarning)\n",
      "D:\\anaconda\\envs\\deep-work\\lib\\site-packages\\sklearn\\linear_model\\logistic.py:460: FutureWarning: Default multi_class will be changed to 'auto' in 0.22. Specify the multi_class option to silence this warning.\n",
      "  \"this warning.\", FutureWarning)\n"
     ]
    },
    {
     "name": "stdout",
     "output_type": "stream",
     "text": [
      "Predicting..\n",
      "Evaluating..\n",
      "Accuracy Score  : 0.458\n",
      "F1 Score        : 0.365\n",
      "Precision Score : 0.490\n",
      "Recall Score    : 0.325\n",
      "------------------------------\n",
      "Intializing lr\n",
      "Using Tfidf Vectorizer\n",
      "Training..\n"
     ]
    },
    {
     "name": "stderr",
     "output_type": "stream",
     "text": [
      "D:\\anaconda\\envs\\deep-work\\lib\\site-packages\\sklearn\\linear_model\\logistic.py:433: FutureWarning: Default solver will be changed to 'lbfgs' in 0.22. Specify a solver to silence this warning.\n",
      "  FutureWarning)\n",
      "D:\\anaconda\\envs\\deep-work\\lib\\site-packages\\sklearn\\linear_model\\logistic.py:460: FutureWarning: Default multi_class will be changed to 'auto' in 0.22. Specify the multi_class option to silence this warning.\n",
      "  \"this warning.\", FutureWarning)\n"
     ]
    },
    {
     "name": "stdout",
     "output_type": "stream",
     "text": [
      "Predicting..\n",
      "Evaluating..\n"
     ]
    },
    {
     "name": "stderr",
     "output_type": "stream",
     "text": [
      "D:\\anaconda\\envs\\deep-work\\lib\\site-packages\\sklearn\\metrics\\classification.py:1143: UndefinedMetricWarning: F-score is ill-defined and being set to 0.0 in labels with no predicted samples.\n",
      "  'precision', 'predicted', average, warn_for)\n",
      "D:\\anaconda\\envs\\deep-work\\lib\\site-packages\\sklearn\\metrics\\classification.py:1143: UndefinedMetricWarning: Precision is ill-defined and being set to 0.0 in labels with no predicted samples.\n",
      "  'precision', 'predicted', average, warn_for)\n"
     ]
    },
    {
     "name": "stdout",
     "output_type": "stream",
     "text": [
      "Accuracy Score  : 0.441\n",
      "F1 Score        : 0.306\n",
      "Precision Score : 0.604\n",
      "Recall Score    : 0.262\n",
      "------------------------------\n",
      "Intializing gnb\n",
      "Using Count Vectorizer\n",
      "Training..\n",
      "Predicting..\n",
      "Evaluating..\n",
      "Accuracy Score  : 0.290\n",
      "F1 Score        : 0.265\n",
      "Precision Score : 0.290\n",
      "Recall Score    : 0.272\n",
      "------------------------------\n",
      "Intializing gnb\n",
      "Using Tfidf Vectorizer\n",
      "Training..\n",
      "Predicting..\n",
      "Evaluating..\n",
      "Accuracy Score  : 0.293\n",
      "F1 Score        : 0.263\n",
      "Precision Score : 0.283\n",
      "Recall Score    : 0.274\n",
      "------------------------------\n",
      "Intializing dum-strat\n",
      "Using Count Vectorizer\n",
      "Training..\n",
      "Predicting..\n",
      "Evaluating..\n",
      "Accuracy Score  : 0.111\n",
      "F1 Score        : 0.051\n",
      "Precision Score : 0.051\n",
      "Recall Score    : 0.054\n",
      "------------------------------\n",
      "Intializing dum-strat\n",
      "Using Tfidf Vectorizer\n",
      "Training..\n",
      "Predicting..\n",
      "Evaluating..\n",
      "Accuracy Score  : 0.104\n",
      "F1 Score        : 0.046\n",
      "Precision Score : 0.047\n",
      "Recall Score    : 0.047\n",
      "------------------------------\n",
      "Intializing dum-mf\n",
      "Using Count Vectorizer\n",
      "Training..\n",
      "Predicting..\n",
      "Evaluating..\n"
     ]
    },
    {
     "name": "stderr",
     "output_type": "stream",
     "text": [
      "D:\\anaconda\\envs\\deep-work\\lib\\site-packages\\sklearn\\metrics\\classification.py:1143: UndefinedMetricWarning: F-score is ill-defined and being set to 0.0 in labels with no predicted samples.\n",
      "  'precision', 'predicted', average, warn_for)\n",
      "D:\\anaconda\\envs\\deep-work\\lib\\site-packages\\sklearn\\metrics\\classification.py:1143: UndefinedMetricWarning: Precision is ill-defined and being set to 0.0 in labels with no predicted samples.\n",
      "  'precision', 'predicted', average, warn_for)\n"
     ]
    },
    {
     "name": "stdout",
     "output_type": "stream",
     "text": [
      "Accuracy Score  : 0.256\n",
      "F1 Score        : 0.020\n",
      "Precision Score : 0.013\n",
      "Recall Score    : 0.050\n",
      "------------------------------\n",
      "Intializing dum-mf\n",
      "Using Tfidf Vectorizer\n",
      "Training..\n",
      "Predicting..\n",
      "Evaluating..\n",
      "Accuracy Score  : 0.256\n",
      "F1 Score        : 0.020\n",
      "Precision Score : 0.013\n",
      "Recall Score    : 0.050\n"
     ]
    }
   ],
   "source": [
    "results = {} # dict to save the results\n",
    "\n",
    "# looping through all the models\n",
    "for idx in range(len(models)):\n",
    "    res_ct = train_test(models[idx])\n",
    "    results[res_ct[0]] = res_ct[1:]\n",
    "    \n",
    "    res_tf = train_test(models[idx], vect='tfidf')\n",
    "    results[res_tf[0]] = res_tf[1:]\n",
    "    "
   ]
  },
  {
   "cell_type": "code",
   "execution_count": 154,
   "metadata": {},
   "outputs": [],
   "source": [
    "cols = ['accuracy','f1-score','precision','recall']\n",
    "fin_result = pd.DataFrame.from_dict(results, orient='index', columns=cols)"
   ]
  },
  {
   "cell_type": "code",
   "execution_count": 155,
   "metadata": {},
   "outputs": [],
   "source": [
    "def highlight_max(x):\n",
    "    return ['background-color: yellow' if v == x.max() else ''\n",
    "                for v in x]"
   ]
  },
  {
   "cell_type": "code",
   "execution_count": 156,
   "metadata": {},
   "outputs": [
    {
     "data": {
      "text/html": [
       "<style  type=\"text/css\" >\n",
       "    #T_9595105a_3e49_11e9_b0ee_9828a60cb867row1_col2 {\n",
       "            background-color:  yellow;\n",
       "        }    #T_9595105a_3e49_11e9_b0ee_9828a60cb867row4_col0 {\n",
       "            background-color:  yellow;\n",
       "        }    #T_9595105a_3e49_11e9_b0ee_9828a60cb867row4_col1 {\n",
       "            background-color:  yellow;\n",
       "        }    #T_9595105a_3e49_11e9_b0ee_9828a60cb867row4_col3 {\n",
       "            background-color:  yellow;\n",
       "        }</style><table id=\"T_9595105a_3e49_11e9_b0ee_9828a60cb867\" ><thead>    <tr>        <th class=\"blank level0\" ></th>        <th class=\"col_heading level0 col0\" >accuracy</th>        <th class=\"col_heading level0 col1\" >f1-score</th>        <th class=\"col_heading level0 col2\" >precision</th>        <th class=\"col_heading level0 col3\" >recall</th>    </tr></thead><tbody>\n",
       "                <tr>\n",
       "                        <th id=\"T_9595105a_3e49_11e9_b0ee_9828a60cb867level0_row0\" class=\"row_heading level0 row0\" >dum-mf-count</th>\n",
       "                        <td id=\"T_9595105a_3e49_11e9_b0ee_9828a60cb867row0_col0\" class=\"data row0 col0\" >0.255696</td>\n",
       "                        <td id=\"T_9595105a_3e49_11e9_b0ee_9828a60cb867row0_col1\" class=\"data row0 col1\" >0.0203629</td>\n",
       "                        <td id=\"T_9595105a_3e49_11e9_b0ee_9828a60cb867row0_col2\" class=\"data row0 col2\" >0.0127848</td>\n",
       "                        <td id=\"T_9595105a_3e49_11e9_b0ee_9828a60cb867row0_col3\" class=\"data row0 col3\" >0.05</td>\n",
       "            </tr>\n",
       "            <tr>\n",
       "                        <th id=\"T_9595105a_3e49_11e9_b0ee_9828a60cb867level0_row1\" class=\"row_heading level0 row1\" >lr-tfidf</th>\n",
       "                        <td id=\"T_9595105a_3e49_11e9_b0ee_9828a60cb867row1_col0\" class=\"data row1 col0\" >0.441266</td>\n",
       "                        <td id=\"T_9595105a_3e49_11e9_b0ee_9828a60cb867row1_col1\" class=\"data row1 col1\" >0.305817</td>\n",
       "                        <td id=\"T_9595105a_3e49_11e9_b0ee_9828a60cb867row1_col2\" class=\"data row1 col2\" >0.603884</td>\n",
       "                        <td id=\"T_9595105a_3e49_11e9_b0ee_9828a60cb867row1_col3\" class=\"data row1 col3\" >0.261558</td>\n",
       "            </tr>\n",
       "            <tr>\n",
       "                        <th id=\"T_9595105a_3e49_11e9_b0ee_9828a60cb867level0_row2\" class=\"row_heading level0 row2\" >gnb-tfidf</th>\n",
       "                        <td id=\"T_9595105a_3e49_11e9_b0ee_9828a60cb867row2_col0\" class=\"data row2 col0\" >0.293418</td>\n",
       "                        <td id=\"T_9595105a_3e49_11e9_b0ee_9828a60cb867row2_col1\" class=\"data row2 col1\" >0.263113</td>\n",
       "                        <td id=\"T_9595105a_3e49_11e9_b0ee_9828a60cb867row2_col2\" class=\"data row2 col2\" >0.283296</td>\n",
       "                        <td id=\"T_9595105a_3e49_11e9_b0ee_9828a60cb867row2_col3\" class=\"data row2 col3\" >0.273937</td>\n",
       "            </tr>\n",
       "            <tr>\n",
       "                        <th id=\"T_9595105a_3e49_11e9_b0ee_9828a60cb867level0_row3\" class=\"row_heading level0 row3\" >gnb-count</th>\n",
       "                        <td id=\"T_9595105a_3e49_11e9_b0ee_9828a60cb867row3_col0\" class=\"data row3 col0\" >0.28962</td>\n",
       "                        <td id=\"T_9595105a_3e49_11e9_b0ee_9828a60cb867row3_col1\" class=\"data row3 col1\" >0.264865</td>\n",
       "                        <td id=\"T_9595105a_3e49_11e9_b0ee_9828a60cb867row3_col2\" class=\"data row3 col2\" >0.289666</td>\n",
       "                        <td id=\"T_9595105a_3e49_11e9_b0ee_9828a60cb867row3_col3\" class=\"data row3 col3\" >0.272375</td>\n",
       "            </tr>\n",
       "            <tr>\n",
       "                        <th id=\"T_9595105a_3e49_11e9_b0ee_9828a60cb867level0_row4\" class=\"row_heading level0 row4\" >lr-count</th>\n",
       "                        <td id=\"T_9595105a_3e49_11e9_b0ee_9828a60cb867row4_col0\" class=\"data row4 col0\" >0.457975</td>\n",
       "                        <td id=\"T_9595105a_3e49_11e9_b0ee_9828a60cb867row4_col1\" class=\"data row4 col1\" >0.364786</td>\n",
       "                        <td id=\"T_9595105a_3e49_11e9_b0ee_9828a60cb867row4_col2\" class=\"data row4 col2\" >0.489644</td>\n",
       "                        <td id=\"T_9595105a_3e49_11e9_b0ee_9828a60cb867row4_col3\" class=\"data row4 col3\" >0.325492</td>\n",
       "            </tr>\n",
       "            <tr>\n",
       "                        <th id=\"T_9595105a_3e49_11e9_b0ee_9828a60cb867level0_row5\" class=\"row_heading level0 row5\" >dum-strat-count</th>\n",
       "                        <td id=\"T_9595105a_3e49_11e9_b0ee_9828a60cb867row5_col0\" class=\"data row5 col0\" >0.111139</td>\n",
       "                        <td id=\"T_9595105a_3e49_11e9_b0ee_9828a60cb867row5_col1\" class=\"data row5 col1\" >0.0511377</td>\n",
       "                        <td id=\"T_9595105a_3e49_11e9_b0ee_9828a60cb867row5_col2\" class=\"data row5 col2\" >0.0511692</td>\n",
       "                        <td id=\"T_9595105a_3e49_11e9_b0ee_9828a60cb867row5_col3\" class=\"data row5 col3\" >0.0539985</td>\n",
       "            </tr>\n",
       "            <tr>\n",
       "                        <th id=\"T_9595105a_3e49_11e9_b0ee_9828a60cb867level0_row6\" class=\"row_heading level0 row6\" >dum-strat-tfidf</th>\n",
       "                        <td id=\"T_9595105a_3e49_11e9_b0ee_9828a60cb867row6_col0\" class=\"data row6 col0\" >0.103797</td>\n",
       "                        <td id=\"T_9595105a_3e49_11e9_b0ee_9828a60cb867row6_col1\" class=\"data row6 col1\" >0.0457494</td>\n",
       "                        <td id=\"T_9595105a_3e49_11e9_b0ee_9828a60cb867row6_col2\" class=\"data row6 col2\" >0.0470165</td>\n",
       "                        <td id=\"T_9595105a_3e49_11e9_b0ee_9828a60cb867row6_col3\" class=\"data row6 col3\" >0.0470407</td>\n",
       "            </tr>\n",
       "            <tr>\n",
       "                        <th id=\"T_9595105a_3e49_11e9_b0ee_9828a60cb867level0_row7\" class=\"row_heading level0 row7\" >dum-mf-tfidf</th>\n",
       "                        <td id=\"T_9595105a_3e49_11e9_b0ee_9828a60cb867row7_col0\" class=\"data row7 col0\" >0.255696</td>\n",
       "                        <td id=\"T_9595105a_3e49_11e9_b0ee_9828a60cb867row7_col1\" class=\"data row7 col1\" >0.0203629</td>\n",
       "                        <td id=\"T_9595105a_3e49_11e9_b0ee_9828a60cb867row7_col2\" class=\"data row7 col2\" >0.0127848</td>\n",
       "                        <td id=\"T_9595105a_3e49_11e9_b0ee_9828a60cb867row7_col3\" class=\"data row7 col3\" >0.05</td>\n",
       "            </tr>\n",
       "    </tbody></table>"
      ],
      "text/plain": [
       "<pandas.io.formats.style.Styler at 0x1c0a012b9e8>"
      ]
     },
     "execution_count": 156,
     "metadata": {},
     "output_type": "execute_result"
    }
   ],
   "source": [
    "# the final result table\n",
    "fin_result.style.apply(highlight_max)"
   ]
  },
  {
   "cell_type": "code",
   "execution_count": 157,
   "metadata": {},
   "outputs": [
    {
     "data": {
      "text/plain": [
       "Text(0.5, 0, 'Models-vectorizer')"
      ]
     },
     "execution_count": 157,
     "metadata": {},
     "output_type": "execute_result"
    },
    {
     "data": {
      "image/png": "[encoded data removed]",
      "text/plain": [
       "<Figure size 720x432 with 1 Axes>"
      ]
     },
     "metadata": {
      "needs_background": "light"
     },
     "output_type": "display_data"
    }
   ],
   "source": [
    "plt.figure(figsize=(10,6))\n",
    "plt.bar(range(fin_result.shape[0]), fin_result['f1-score'])\n",
    "plt.xticks(range(fin_result.shape[0]), list(fin_result.index), rotation=90)\n",
    "plt.ylabel('F1 Score')\n",
    "plt.xlabel('Models-vectorizer')"
   ]
  },
  {
   "cell_type": "markdown",
   "metadata": {},
   "source": [
    "#### Best classifier: Logistic Regression"
   ]
  },
  {
   "cell_type": "code",
   "execution_count": 159,
   "metadata": {},
   "outputs": [],
   "source": [
    "lr = LogisticRegression() # initializing model"
   ]
  },
  {
   "cell_type": "code",
   "execution_count": 160,
   "metadata": {},
   "outputs": [
    {
     "name": "stderr",
     "output_type": "stream",
     "text": [
      "D:\\anaconda\\envs\\deep-work\\lib\\site-packages\\sklearn\\linear_model\\logistic.py:433: FutureWarning: Default solver will be changed to 'lbfgs' in 0.22. Specify a solver to silence this warning.\n",
      "  FutureWarning)\n",
      "D:\\anaconda\\envs\\deep-work\\lib\\site-packages\\sklearn\\linear_model\\logistic.py:460: FutureWarning: Default multi_class will be changed to 'auto' in 0.22. Specify the multi_class option to silence this warning.\n",
      "  \"this warning.\", FutureWarning)\n"
     ]
    },
    {
     "data": {
      "text/plain": [
       "LogisticRegression(C=1.0, class_weight=None, dual=False, fit_intercept=True,\n",
       "          intercept_scaling=1, max_iter=100, multi_class='warn',\n",
       "          n_jobs=None, penalty='l2', random_state=None, solver='warn',\n",
       "          tol=0.0001, verbose=0, warm_start=False)"
      ]
     },
     "execution_count": 160,
     "metadata": {},
     "output_type": "execute_result"
    }
   ],
   "source": [
    "lr.fit(train_text_count_vec, train_y) # training model"
   ]
  },
  {
   "cell_type": "code",
   "execution_count": 161,
   "metadata": {},
   "outputs": [],
   "source": [
    "pred = lr.predict(test_text_count_vec) # predicting on test"
   ]
  },
  {
   "cell_type": "code",
   "execution_count": 162,
   "metadata": {},
   "outputs": [
    {
     "data": {
      "text/plain": [
       "<matplotlib.axes._subplots.AxesSubplot at 0x1c0a541d048>"
      ]
     },
     "execution_count": 162,
     "metadata": {},
     "output_type": "execute_result"
    },
    {
     "data": {
      "image/png": "[encoded data removed]",
      "text/plain": [
       "<Figure size 1440x720 with 2 Axes>"
      ]
     },
     "metadata": {
      "needs_background": "light"
     },
     "output_type": "display_data"
    }
   ],
   "source": [
    "plt.figure(figsize = (20,10))\n",
    "\n",
    "cm = confusion_matrix(test_y, pred)\n",
    "df_cm = pd.DataFrame(cm, index = [i for i in top_20_cols],\n",
    "                    columns = [i for i in top_20_cols])\n",
    "\n",
    "sns.heatmap(df_cm, annot=True)"
   ]
  },
  {
   "cell_type": "code",
   "execution_count": 163,
   "metadata": {},
   "outputs": [],
   "source": [
    "# f1 score per class\n",
    "f1_scores_per_class = f1_score(test_y, pred, average=None)"
   ]
  },
  {
   "cell_type": "code",
   "execution_count": 164,
   "metadata": {},
   "outputs": [
    {
     "data": {
      "text/plain": [
       "Text(0.5, 0, 'subreddit classes')"
      ]
     },
     "execution_count": 164,
     "metadata": {},
     "output_type": "execute_result"
    },
    {
     "data": {
      "image/png": "[encoded data removed]",
      "text/plain": [
       "<Figure size 720x432 with 1 Axes>"
      ]
     },
     "metadata": {
      "needs_background": "light"
     },
     "output_type": "display_data"
    }
   ],
   "source": [
    "plt.figure(figsize=(10,6))\n",
    "plt.bar(range(f1_scores_per_class.shape[0]),\n",
    "        f1_scores_per_class)\n",
    "plt.xticks(range(f1_scores_per_class.shape[0]),\n",
    "           top_20_cols, rotation=90)\n",
    "plt.ylabel('F1 Score')\n",
    "plt.xlabel('subreddit classes')"
   ]
  },
  {
   "cell_type": "markdown",
   "metadata": {},
   "source": [
    "#### Grid-Searching Logistic Regression"
   ]
  },
  {
   "cell_type": "code",
   "execution_count": 195,
   "metadata": {},
   "outputs": [],
   "source": [
    "# initializing Vectorizer and Classifier\n",
    "tfidf_vector = TfidfVectorizer(sublinear_tf=True, ngram_range=(1,3), max_features=5000)\n",
    "lr_clf = LogisticRegression()"
   ]
  },
  {
   "cell_type": "code",
   "execution_count": 166,
   "metadata": {},
   "outputs": [],
   "source": [
    "powers_of_10 = []\n",
    "powers_of_10.extend(10**x for x in range(-3, 4, 1))"
   ]
  },
  {
   "cell_type": "code",
   "execution_count": 167,
   "metadata": {},
   "outputs": [],
   "source": [
    "pipe = Pipeline([\n",
    "    ('lr', LogisticRegression())\n",
    "])"
   ]
  },
  {
   "cell_type": "code",
   "execution_count": 197,
   "metadata": {},
   "outputs": [],
   "source": [
    "params = {\n",
    "    'lr__C': powers_of_10,\n",
    "    'lr__solver':['newton-cg','saga','lbfgs'],\n",
    "    'lr__multi_class': ['auto'],\n",
    "}"
   ]
  },
  {
   "cell_type": "code",
   "execution_count": 198,
   "metadata": {},
   "outputs": [],
   "source": [
    "grid_searching =  GridSearchCV(pipe, param_grid=params)"
   ]
  },
  {
   "cell_type": "markdown",
   "metadata": {},
   "source": [
    "#### tf-Idf"
   ]
  },
  {
   "cell_type": "code",
   "execution_count": 199,
   "metadata": {},
   "outputs": [],
   "source": [
    "tfidf_vec.fit_transform(\n",
    "    train_fin.text.append(test_fin.text))\n",
    "train_text_tfidf_vec = tfidf_vec.transform(train_fin.text)\n",
    "test_text_tfidf_vec = tfidf_vec.transform(test_fin.text)"
   ]
  },
  {
   "cell_type": "code",
   "execution_count": 200,
   "metadata": {},
   "outputs": [
    {
     "name": "stderr",
     "output_type": "stream",
     "text": [
      "D:\\anaconda\\envs\\deep-work\\lib\\site-packages\\sklearn\\model_selection\\_split.py:2053: FutureWarning: You should specify a value for 'cv' instead of relying on the default value. The default value will change from 3 to 5 in version 0.22.\n",
      "  warnings.warn(CV_WARNING, FutureWarning)\n",
      "D:\\anaconda\\envs\\deep-work\\lib\\site-packages\\sklearn\\linear_model\\logistic.py:758: ConvergenceWarning: lbfgs failed to converge. Increase the number of iterations.\n",
      "  \"of iterations.\", ConvergenceWarning)\n",
      "D:\\anaconda\\envs\\deep-work\\lib\\site-packages\\sklearn\\linear_model\\logistic.py:758: ConvergenceWarning: lbfgs failed to converge. Increase the number of iterations.\n",
      "  \"of iterations.\", ConvergenceWarning)\n",
      "D:\\anaconda\\envs\\deep-work\\lib\\site-packages\\sklearn\\linear_model\\logistic.py:758: ConvergenceWarning: lbfgs failed to converge. Increase the number of iterations.\n",
      "  \"of iterations.\", ConvergenceWarning)\n",
      "D:\\anaconda\\envs\\deep-work\\lib\\site-packages\\sklearn\\linear_model\\logistic.py:758: ConvergenceWarning: lbfgs failed to converge. Increase the number of iterations.\n",
      "  \"of iterations.\", ConvergenceWarning)\n",
      "D:\\anaconda\\envs\\deep-work\\lib\\site-packages\\sklearn\\linear_model\\logistic.py:758: ConvergenceWarning: lbfgs failed to converge. Increase the number of iterations.\n",
      "  \"of iterations.\", ConvergenceWarning)\n",
      "D:\\anaconda\\envs\\deep-work\\lib\\site-packages\\sklearn\\linear_model\\logistic.py:758: ConvergenceWarning: lbfgs failed to converge. Increase the number of iterations.\n",
      "  \"of iterations.\", ConvergenceWarning)\n",
      "D:\\anaconda\\envs\\deep-work\\lib\\site-packages\\sklearn\\linear_model\\sag.py:334: ConvergenceWarning: The max_iter was reached which means the coef_ did not converge\n",
      "  \"the coef_ did not converge\", ConvergenceWarning)\n",
      "D:\\anaconda\\envs\\deep-work\\lib\\site-packages\\sklearn\\linear_model\\logistic.py:758: ConvergenceWarning: lbfgs failed to converge. Increase the number of iterations.\n",
      "  \"of iterations.\", ConvergenceWarning)\n",
      "D:\\anaconda\\envs\\deep-work\\lib\\site-packages\\sklearn\\linear_model\\logistic.py:758: ConvergenceWarning: lbfgs failed to converge. Increase the number of iterations.\n",
      "  \"of iterations.\", ConvergenceWarning)\n",
      "D:\\anaconda\\envs\\deep-work\\lib\\site-packages\\sklearn\\linear_model\\logistic.py:758: ConvergenceWarning: lbfgs failed to converge. Increase the number of iterations.\n",
      "  \"of iterations.\", ConvergenceWarning)\n",
      "D:\\anaconda\\envs\\deep-work\\lib\\site-packages\\sklearn\\linear_model\\sag.py:334: ConvergenceWarning: The max_iter was reached which means the coef_ did not converge\n",
      "  \"the coef_ did not converge\", ConvergenceWarning)\n",
      "D:\\anaconda\\envs\\deep-work\\lib\\site-packages\\sklearn\\linear_model\\logistic.py:758: ConvergenceWarning: lbfgs failed to converge. Increase the number of iterations.\n",
      "  \"of iterations.\", ConvergenceWarning)\n",
      "D:\\anaconda\\envs\\deep-work\\lib\\site-packages\\sklearn\\linear_model\\logistic.py:758: ConvergenceWarning: lbfgs failed to converge. Increase the number of iterations.\n",
      "  \"of iterations.\", ConvergenceWarning)\n",
      "D:\\anaconda\\envs\\deep-work\\lib\\site-packages\\sklearn\\linear_model\\logistic.py:758: ConvergenceWarning: lbfgs failed to converge. Increase the number of iterations.\n",
      "  \"of iterations.\", ConvergenceWarning)\n",
      "D:\\anaconda\\envs\\deep-work\\lib\\site-packages\\sklearn\\linear_model\\logistic.py:758: ConvergenceWarning: lbfgs failed to converge. Increase the number of iterations.\n",
      "  \"of iterations.\", ConvergenceWarning)\n"
     ]
    },
    {
     "data": {
      "text/plain": [
       "GridSearchCV(cv='warn', error_score='raise-deprecating',\n",
       "       estimator=Pipeline(memory=None,\n",
       "     steps=[('lr', LogisticRegression(C=1.0, class_weight=None, dual=False, fit_intercept=True,\n",
       "          intercept_scaling=1, max_iter=100, multi_class='warn',\n",
       "          n_jobs=None, penalty='l2', random_state=None, solver='warn',\n",
       "          tol=0.0001, verbose=0, warm_start=False))]),\n",
       "       fit_params=None, iid='warn', n_jobs=None,\n",
       "       param_grid={'lr__C': [0.001, 0.01, 0.1, 1, 10, 100, 1000], 'lr__multi_class': ['auto'], 'lr__solver': ['newton-cg', 'saga', 'lbfgs']},\n",
       "       pre_dispatch='2*n_jobs', refit=True, return_train_score='warn',\n",
       "       scoring=None, verbose=0)"
      ]
     },
     "execution_count": 200,
     "metadata": {},
     "output_type": "execute_result"
    }
   ],
   "source": [
    "# training\n",
    "grid_searching.fit(train_text_tfidf_vec, train_y)"
   ]
  },
  {
   "cell_type": "code",
   "execution_count": 201,
   "metadata": {},
   "outputs": [
    {
     "data": {
      "text/plain": [
       "{'lr__C': 10, 'lr__multi_class': 'auto', 'lr__solver': 'lbfgs'}"
      ]
     },
     "execution_count": 201,
     "metadata": {},
     "output_type": "execute_result"
    }
   ],
   "source": [
    "grid_searching.best_params_"
   ]
  },
  {
   "cell_type": "code",
   "execution_count": 202,
   "metadata": {},
   "outputs": [],
   "source": [
    "# predicting the test values\n",
    "pred = grid_searching.predict(test_text_tfidf_vec)"
   ]
  },
  {
   "cell_type": "code",
   "execution_count": 203,
   "metadata": {},
   "outputs": [
    {
     "name": "stdout",
     "output_type": "stream",
     "text": [
      "Evaluating..\n",
      "Accuracy Score  : 0.460\n",
      "F1 Score        : 0.371\n",
      "Precision Score : 0.480\n",
      "Recall Score    : 0.338\n"
     ]
    },
    {
     "data": {
      "text/plain": [
       "(0.46, 0.37132250246402854, 0.4796964018301164, 0.3378594159985791)"
      ]
     },
     "execution_count": 203,
     "metadata": {},
     "output_type": "execute_result"
    }
   ],
   "source": [
    "evaluate_func(test_y, pred)"
   ]
  },
  {
   "cell_type": "code",
   "execution_count": 228,
   "metadata": {
    "scrolled": true
   },
   "outputs": [],
   "source": [
    "# displaying all the wrong predictions\n",
    "\n",
    "predictions = grid_searching.predict(test_text_tfidf_vec)\n",
    "wrong_indexes = []\n",
    "wrong_pred = []\n",
    "wrong_true = []\n",
    "\n",
    "for idx, (prediction, label) in enumerate(zip(predictions, test_y)):\n",
    "    if prediction != label:\n",
    "        wrong_indexes.append(idx)\n",
    "        wrong_pred.append(prediction)\n",
    "        wrong_true.append(label)"
   ]
  },
  {
   "cell_type": "code",
   "execution_count": 229,
   "metadata": {},
   "outputs": [],
   "source": [
    "# creating a report of all\n",
    "# the falsely classified `data`, `pred` and `true label`\n",
    "\n",
    "error_report_df = pd.DataFrame(train_fin.text.iloc[wrong_indexes])\n",
    "error_report_df['predicted'] =  wrong_pred\n",
    "error_report_df['actual'] = wrong_true\n",
    "\n",
    "error_report_df.columns = ['text', 'predicted', 'actual']"
   ]
  },
  {
   "cell_type": "code",
   "execution_count": 230,
   "metadata": {},
   "outputs": [
    {
     "data": {
      "text/html": [
       "<div>\n",
       "<style scoped>\n",
       "    .dataframe tbody tr th:only-of-type {\n",
       "        vertical-align: middle;\n",
       "    }\n",
       "\n",
       "    .dataframe tbody tr th {\n",
       "        vertical-align: top;\n",
       "    }\n",
       "\n",
       "    .dataframe thead th {\n",
       "        text-align: right;\n",
       "    }\n",
       "</style>\n",
       "<table border=\"1\" class=\"dataframe\">\n",
       "  <thead>\n",
       "    <tr style=\"text-align: right;\">\n",
       "      <th></th>\n",
       "      <th>text</th>\n",
       "      <th>predicted</th>\n",
       "      <th>actual</th>\n",
       "    </tr>\n",
       "  </thead>\n",
       "  <tbody>\n",
       "    <tr>\n",
       "      <th>0</th>\n",
       "      <td>think friend love hear talk -PRON- worth hanna...</td>\n",
       "      <td>askreddit</td>\n",
       "      <td>starcraft</td>\n",
       "    </tr>\n",
       "    <tr>\n",
       "      <th>1</th>\n",
       "      <td>good point definitely wanna friend aside stuff...</td>\n",
       "      <td>askreddit</td>\n",
       "      <td>starcraft</td>\n",
       "    </tr>\n",
       "    <tr>\n",
       "      <th>2</th>\n",
       "      <td>girl know -PRON- come friend like -PRON- redir...</td>\n",
       "      <td>askreddit</td>\n",
       "      <td>starcraft</td>\n",
       "    </tr>\n",
       "    <tr>\n",
       "      <th>3</th>\n",
       "      <td>great advice :) -PRON- pretty optimistic find ...</td>\n",
       "      <td>askreddit</td>\n",
       "      <td>starcraft</td>\n",
       "    </tr>\n",
       "    <tr>\n",
       "      <th>4</th>\n",
       "      <td>hannah like pretty shitty friend friendship li...</td>\n",
       "      <td>leagueoflegends</td>\n",
       "      <td>whowouldwin</td>\n",
       "    </tr>\n",
       "    <tr>\n",
       "      <th>5</th>\n",
       "      <td>yes -PRON- try talk calmly doe ... couple week...</td>\n",
       "      <td>askreddit</td>\n",
       "      <td>whowouldwin</td>\n",
       "    </tr>\n",
       "  </tbody>\n",
       "</table>\n",
       "</div>"
      ],
      "text/plain": [
       "                                                text        predicted  \\\n",
       "0  think friend love hear talk -PRON- worth hanna...        askreddit   \n",
       "1  good point definitely wanna friend aside stuff...        askreddit   \n",
       "2  girl know -PRON- come friend like -PRON- redir...        askreddit   \n",
       "3  great advice :) -PRON- pretty optimistic find ...        askreddit   \n",
       "4  hannah like pretty shitty friend friendship li...  leagueoflegends   \n",
       "5  yes -PRON- try talk calmly doe ... couple week...        askreddit   \n",
       "\n",
       "        actual  \n",
       "0    starcraft  \n",
       "1    starcraft  \n",
       "2    starcraft  \n",
       "3    starcraft  \n",
       "4  whowouldwin  \n",
       "5  whowouldwin  "
      ]
     },
     "execution_count": 230,
     "metadata": {},
     "output_type": "execute_result"
    }
   ],
   "source": [
    "error_report_df.head(6)"
   ]
  },
  {
   "cell_type": "markdown",
   "metadata": {},
   "source": [
    "From viewing the above error report, it is clear that the classifier would behave better with more intensive cleaning and removal of special characters from the text column."
   ]
  }
 ],
 "metadata": {
  "kernelspec": {
   "display_name": "Python 3",
   "language": "python",
   "name": "python3"
  },
  "language_info": {
   "codemirror_mode": {
    "name": "ipython",
    "version": 3
   },
   "file_extension": ".py",
   "mimetype": "text/x-python",
   "name": "python",
   "nbconvert_exporter": "python",
   "pygments_lexer": "ipython3",
   "version": "3.7.1"
  }
 },
 "nbformat": 4,
 "nbformat_minor": 2
}
